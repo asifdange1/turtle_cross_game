{
 "cells": [
  {
   "cell_type": "code",
   "execution_count": 1,
   "id": "d2a05d90-2207-430c-8e30-1104d54bd881",
   "metadata": {},
   "outputs": [],
   "source": [
    "from turtle import Turtle, Screen\n",
    "import time\n",
    "import random"
   ]
  },
  {
   "cell_type": "code",
   "execution_count": 2,
   "id": "7ea4fb29-1ed9-435f-823a-674ae14f7dff",
   "metadata": {},
   "outputs": [],
   "source": [
    "screen = Screen()\n",
    "screen.setup(height=600, width = 600)\n",
    "screen.bgcolor(\"white\")\n",
    "screen.title(\"cross_it_mate!\")\n",
    "screen.tracer(0)"
   ]
  },
  {
   "cell_type": "code",
   "execution_count": 3,
   "id": "4436d67f-02ed-409e-b935-88ca35000914",
   "metadata": {},
   "outputs": [],
   "source": [
    "FINISH_LINE_DIST = 280\n",
    "START_POSITION = (0,-280)\n",
    "class Turtle_cross(Turtle):\n",
    "    def __init__(self):\n",
    "        super().__init__()\n",
    "        self.shape(\"turtle\")\n",
    "        self.penup()\n",
    "        self.speed(\"fastest\")\n",
    "        self.color(\"black\")\n",
    "        self.goto(START_POSITION)\n",
    "        self.left(90)\n",
    "    def move(self):\n",
    "        self.forward(50)\n",
    "    def is_at_finish_line(self):\n",
    "        if self.ycor() > FINISH_LINE_DIST:\n",
    "            return True\n",
    "        else: return False\n",
    "    def go_to_start(self):\n",
    "        self.goto(START_POSITION)"
   ]
  },
  {
   "cell_type": "code",
   "execution_count": 4,
   "id": "6e82aeba-e00a-4ebb-ad6c-52cfc2bdf029",
   "metadata": {},
   "outputs": [],
   "source": [
    "COLORS = [\"violet\", \"blue\", \"indigo\", \"green\", \"yellow\", \"red\"]\n",
    "START_DIST = 10\n",
    "MOVE_INCREMENT = 10\n",
    "# increase game_difficulty 1-7 for easy-hardest\n",
    "GAME_DIFFICULTY = 1\n",
    "class Cars(Turtle):\n",
    "    \n",
    "    def __init__(self):\n",
    "        super().__init__()\n",
    "        self.cars = []\n",
    "        self.hideturtle()\n",
    "        \n",
    "    def create_car(self):\n",
    "        random_choice = random.randint(0,7)\n",
    "        if random_choice < GAME_DIFFICULTY:\n",
    "            car = Turtle(\"square\")\n",
    "            car.speed(\"fastest\")\n",
    "            car.color(\"white\")\n",
    "            car.penup()\n",
    "            car.hideturtle()\n",
    "            y_cor = random.randint(-250,250)\n",
    "            car.goto(350, y_cor)\n",
    "            car.left(180)\n",
    "            car.shapesize(stretch_wid = 1, stretch_len = 3)\n",
    "            \n",
    "            car.color(random.choice(COLORS))\n",
    "            self.cars.append(car)\n",
    "            \n",
    "    def move_car(self):\n",
    "        for car in self.cars:\n",
    "            car.showturtle()\n",
    "            car.forward(START_DIST)\n",
    "    # def level_up(self):\n",
    "    #     car.speed *= 0.9\n",
    "        "
   ]
  },
  {
   "cell_type": "code",
   "execution_count": 5,
   "id": "bd065b48-169c-4f24-bcad-e259786492fe",
   "metadata": {},
   "outputs": [],
   "source": [
    "FONT = (\"Courier\", 24, \"normal\")\n",
    "class Scoreboard(Turtle):\n",
    "    def __init__(self):\n",
    "        super().__init__()\n",
    "        self.level = 1\n",
    "        self.hideturtle()\n",
    "        self.penup()\n",
    "        self.goto(200, 250)\n",
    "        self.write(f\"LEVEL: {self.level}\", align = \"center\", font = FONT)\n",
    "    def game_over(self):\n",
    "        self.goto(0,0)\n",
    "        self.write(\"game over\", align = \"center\", font = FONT)\n",
    "    def finished_line(self):\n",
    "        self.goto(-280, 250)\n",
    "        self.write(\"finished line, level up\", align = \"left\", font = FONT)\n",
    "    def level_up(self):\n",
    "        self.level += 1\n",
    "        self.clear()\n",
    "        self.write(f\"LEVEL: {self.level}\", align = \"center\", font = FONT)\n",
    "        "
   ]
  },
  {
   "cell_type": "code",
   "execution_count": 6,
   "id": "e5af2084-3f69-44a7-b331-3c0c4c0e6f3a",
   "metadata": {},
   "outputs": [],
   "source": [
    "ttl = Turtle_cross()\n",
    "cars = Cars()\n",
    "scoreboard = Scoreboard()"
   ]
  },
  {
   "cell_type": "code",
   "execution_count": 7,
   "id": "08e625b3-dc6c-4452-a916-3e95af563e76",
   "metadata": {},
   "outputs": [],
   "source": [
    "screen.listen()\n",
    "screen.onkey(ttl.move, \"Up\")\n"
   ]
  },
  {
   "cell_type": "code",
   "execution_count": 8,
   "id": "2d4ef91b-eb55-46d3-b4a7-c1548fb11761",
   "metadata": {},
   "outputs": [],
   "source": [
    "game_is_on = True\n",
    "while game_is_on:\n",
    "    time.sleep(0.1)\n",
    "    screen.update()\n",
    "    cars.create_car()\n",
    "    cars.move_car()\n",
    "    for car in cars.cars:\n",
    "        if car.distance(ttl) < 20:\n",
    "            game_is_on = False\n",
    "            scoreboard.game_over()\n",
    "    #detect crossing of turtle\n",
    "    if ttl.is_at_finish_line():\n",
    "        ttl.go_to_start()\n",
    "        # cars.level_up()\n",
    "        scoreboard.level_up()"
   ]
  },
  {
   "cell_type": "code",
   "execution_count": null,
   "id": "e378f741-7a7b-4a32-a628-88b3b875f446",
   "metadata": {},
   "outputs": [],
   "source": []
  },
  {
   "cell_type": "code",
   "execution_count": 9,
   "id": "2f0601a2-d51f-42b3-816b-f987c9eaaaba",
   "metadata": {},
   "outputs": [],
   "source": [
    "screen.exitonclick()"
   ]
  }
 ],
 "metadata": {
  "kernelspec": {
   "display_name": "Python 3 (ipykernel)",
   "language": "python",
   "name": "python3"
  },
  "language_info": {
   "codemirror_mode": {
    "name": "ipython",
    "version": 3
   },
   "file_extension": ".py",
   "mimetype": "text/x-python",
   "name": "python",
   "nbconvert_exporter": "python",
   "pygments_lexer": "ipython3",
   "version": "3.10.4"
  }
 },
 "nbformat": 4,
 "nbformat_minor": 5
}
